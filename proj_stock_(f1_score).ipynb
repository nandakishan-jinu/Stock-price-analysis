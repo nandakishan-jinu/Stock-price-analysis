{
  "nbformat": 4,
  "nbformat_minor": 0,
  "metadata": {
    "colab": {
      "provenance": [],
      "mount_file_id": "1qaN1RP2wmSO48aQfu6_f9RFHkD2_UgyW",
      "authorship_tag": "ABX9TyO6oVeyhnu5K+JhGr55yJzl",
      "include_colab_link": true
    },
    "kernelspec": {
      "name": "python3",
      "display_name": "Python 3"
    },
    "language_info": {
      "name": "python"
    }
  },
  "cells": [
    {
      "cell_type": "markdown",
      "metadata": {
        "id": "view-in-github",
        "colab_type": "text"
      },
      "source": [
        "<a href=\"https://colab.research.google.com/github/nandakishan-jinu/Stock-price-analysis/blob/main/proj_stock_(f1_score).ipynb\" target=\"_parent\"><img src=\"https://colab.research.google.com/assets/colab-badge.svg\" alt=\"Open In Colab\"/></a>"
      ]
    },
    {
      "cell_type": "code",
      "execution_count": 2,
      "metadata": {
        "id": "XALbI1FwsGDn"
      },
      "outputs": [],
      "source": [
        "import pandas as pd\n",
        "import numpy as np\n",
        "import matplotlib.pyplot as plt\n",
        "import seaborn as sns\n",
        "from sklearn.model_selection import train_test_split\n",
        "from sklearn.ensemble import RandomForestClassifier\n",
        "from sklearn.metrics import classification_report, confusion_matrix, f1_score\n",
        "\n"
      ]
    },
    {
      "cell_type": "code",
      "source": [
        "# Updated cleaning function to handle the dataset structure\n",
        "def clean_stock_data(file_path):\n",
        "    # Load the raw data\n",
        "    raw_data = pd.read_csv(file_path)\n",
        "\n",
        "    # Skip the first two rows (metadata and incomplete headers)\n",
        "    data = raw_data[2:]\n",
        "\n",
        "    # Assign proper column names from the first valid row\n",
        "    data.columns = ['Date', 'Close', 'High', 'Low', 'Open', 'Volume']\n",
        "\n",
        "    # Drop the first row of actual data since it was used for column names\n",
        "    data = data[1:]\n",
        "\n",
        "    # Drop rows with missing values\n",
        "    data.dropna(inplace=True)\n",
        "\n",
        "    # Convert 'Date' column to datetime\n",
        "    data['Date'] = pd.to_datetime(data['Date'], errors='coerce')\n",
        "    data.dropna(subset=['Date'], inplace=True)  # Remove rows with invalid dates\n",
        "\n",
        "    # Set the 'Date' column as the index\n",
        "    data.set_index('Date', inplace=True)\n",
        "\n",
        "    # Convert relevant columns to numeric types\n",
        "    for col in ['Close', 'High', 'Low', 'Open', 'Volume']:\n",
        "        data[col] = pd.to_numeric(data[col], errors='coerce')\n",
        "\n",
        "    # Drop rows where numeric conversion failed\n",
        "    data.dropna(inplace=True)\n",
        "\n",
        "    return data\n",
        "\n"
      ],
      "metadata": {
        "id": "Qn4IRWbJwdz0"
      },
      "execution_count": 3,
      "outputs": []
    },
    {
      "cell_type": "code",
      "source": [
        "# Step 2: Comprehensive Time Series Analysis\n",
        "def time_series_analysis(data):\n",
        "\n",
        "    data['Daily Return'] = data['Close'].pct_change()\n",
        "\n",
        "    return data"
      ],
      "metadata": {
        "id": "727N-G7lwkLn"
      },
      "execution_count": 9,
      "outputs": []
    },
    {
      "cell_type": "code",
      "source": [
        "# Step 3: Machine Learning Model with F1 Score\n",
        "def train_classification_model(data):\n",
        "    \"\"\"\n",
        "    Train a classification model to predict stock price movement (Up/Down).\n",
        "    \"\"\"\n",
        "    # Define target as price movement: 1 for Up, 0 for Down\n",
        "    data['Target'] = (data['Close'].shift(-1) > data['Close']).astype(int)\n",
        "    data.dropna(inplace=True)\n",
        "\n",
        "    # Features and target\n",
        "    features = ['Close', 'High', 'Low', 'Open', 'Volume', 'Daily Return']\n",
        "    X = data[features]\n",
        "    y = data['Target']\n",
        "\n",
        "    # Split the data into training and testing sets\n",
        "    X_train, X_test, y_train, y_test = train_test_split(X, y, test_size=0.2, random_state=42)\n",
        "\n",
        "    # Train a Random Forest Classifier\n",
        "    model = RandomForestClassifier(random_state=42)\n",
        "    model.fit(X_train, y_train)\n",
        "\n",
        "    # Make predictions\n",
        "    y_pred = model.predict(X_test)\n",
        "\n",
        "\n",
        "    # Evaluate the model\n",
        "    f1 = f1_score(y_test, y_pred)\n",
        "    print(\"Classification Report:\\n\", classification_report(y_test, y_pred))\n",
        "    print(\"Confusion Matrix:\\n\", confusion_matrix(y_test, y_pred))\n",
        "    print(f\"F1 Score: {f1}\")\n",
        "\n",
        "    return model, f1"
      ],
      "metadata": {
        "id": "00stc2cewsCw"
      },
      "execution_count": 4,
      "outputs": []
    },
    {
      "cell_type": "code",
      "source": [
        "# Main function to execute the workflow\n",
        "def main(file_path):\n",
        "    # Clean the dataset\n",
        "    cleaned_data = clean_stock_data(file_path)\n",
        "    analyzed_data = time_series_analysis(cleaned_data)\n",
        "    # Train classification model\n",
        "    model, f1 = train_classification_model(analyzed_data)\n",
        "    print(f\"Model trained. F1 Score: {f1}\")\n"
      ],
      "metadata": {
        "id": "uwpdc5FHwzJs"
      },
      "execution_count": 10,
      "outputs": []
    },
    {
      "cell_type": "code",
      "source": [
        "# Run the workflow\n",
        "main('/content/drive/MyDrive/META_stock_data.csv')"
      ],
      "metadata": {
        "colab": {
          "base_uri": "https://localhost:8080/"
        },
        "id": "27OmuzCN2RhA",
        "outputId": "29ed7b3f-630f-4c14-bf3b-a470819c3556"
      },
      "execution_count": 11,
      "outputs": [
        {
          "output_type": "stream",
          "name": "stdout",
          "text": [
            "Classification Report:\n",
            "               precision    recall  f1-score   support\n",
            "\n",
            "           0       0.70      0.58      0.64        12\n",
            "           1       0.55      0.67      0.60         9\n",
            "\n",
            "    accuracy                           0.62        21\n",
            "   macro avg       0.62      0.62      0.62        21\n",
            "weighted avg       0.63      0.62      0.62        21\n",
            "\n",
            "Confusion Matrix:\n",
            " [[7 5]\n",
            " [3 6]]\n",
            "F1 Score: 0.6\n",
            "Model trained. F1 Score: 0.6\n"
          ]
        }
      ]
    },
    {
      "cell_type": "code",
      "source": [
        "# Run the workflow\n",
        "main('/content/drive/MyDrive/Netflix_stock_data.csv')"
      ],
      "metadata": {
        "colab": {
          "base_uri": "https://localhost:8080/"
        },
        "id": "v6SE8PtL2a7E",
        "outputId": "e3de6b9f-a011-4955-cd7c-91ee8466b0d6"
      },
      "execution_count": 12,
      "outputs": [
        {
          "output_type": "stream",
          "name": "stdout",
          "text": [
            "Classification Report:\n",
            "               precision    recall  f1-score   support\n",
            "\n",
            "           0       0.67      0.36      0.47        11\n",
            "           1       0.53      0.80      0.64        10\n",
            "\n",
            "    accuracy                           0.57        21\n",
            "   macro avg       0.60      0.58      0.56        21\n",
            "weighted avg       0.60      0.57      0.55        21\n",
            "\n",
            "Confusion Matrix:\n",
            " [[4 7]\n",
            " [2 8]]\n",
            "F1 Score: 0.64\n",
            "Model trained. F1 Score: 0.64\n"
          ]
        }
      ]
    },
    {
      "cell_type": "code",
      "source": [
        "# Run the workflow\n",
        "main('/content/drive/MyDrive/Apple_stock_data.csv')"
      ],
      "metadata": {
        "colab": {
          "base_uri": "https://localhost:8080/"
        },
        "id": "m2FLpkeG2qcq",
        "outputId": "d9cf71dd-8d1a-479d-d90f-5b9cbb50a951"
      },
      "execution_count": 13,
      "outputs": [
        {
          "output_type": "stream",
          "name": "stdout",
          "text": [
            "Classification Report:\n",
            "               precision    recall  f1-score   support\n",
            "\n",
            "           0       0.50      0.38      0.43         8\n",
            "           1       0.67      0.77      0.71        13\n",
            "\n",
            "    accuracy                           0.62        21\n",
            "   macro avg       0.58      0.57      0.57        21\n",
            "weighted avg       0.60      0.62      0.61        21\n",
            "\n",
            "Confusion Matrix:\n",
            " [[ 3  5]\n",
            " [ 3 10]]\n",
            "F1 Score: 0.7142857142857143\n",
            "Model trained. F1 Score: 0.7142857142857143\n"
          ]
        }
      ]
    },
    {
      "cell_type": "code",
      "source": [
        "# Run the workflow\n",
        "main('/content/drive/MyDrive/Microsoft_stock_data.csv')"
      ],
      "metadata": {
        "colab": {
          "base_uri": "https://localhost:8080/"
        },
        "outputId": "1da8a5f8-227c-4164-8714-80b117fc8a68",
        "id": "pKB4Pmgt2vk-"
      },
      "execution_count": 14,
      "outputs": [
        {
          "output_type": "stream",
          "name": "stdout",
          "text": [
            "Classification Report:\n",
            "               precision    recall  f1-score   support\n",
            "\n",
            "           0       0.38      0.33      0.35         9\n",
            "           1       0.54      0.58      0.56        12\n",
            "\n",
            "    accuracy                           0.48        21\n",
            "   macro avg       0.46      0.46      0.46        21\n",
            "weighted avg       0.47      0.48      0.47        21\n",
            "\n",
            "Confusion Matrix:\n",
            " [[3 6]\n",
            " [5 7]]\n",
            "F1 Score: 0.56\n",
            "Model trained. F1 Score: 0.56\n"
          ]
        }
      ]
    },
    {
      "cell_type": "code",
      "source": [
        "# Run the workflow\n",
        "main('/content/drive/MyDrive/Amazon_stock_data.csv')"
      ],
      "metadata": {
        "colab": {
          "base_uri": "https://localhost:8080/"
        },
        "id": "8Cw4KiVx3DWU",
        "outputId": "b6b94690-9157-4850-83f5-430e419aefde"
      },
      "execution_count": 15,
      "outputs": [
        {
          "output_type": "stream",
          "name": "stdout",
          "text": [
            "Classification Report:\n",
            "               precision    recall  f1-score   support\n",
            "\n",
            "           0       0.43      0.30      0.35        10\n",
            "           1       0.50      0.64      0.56        11\n",
            "\n",
            "    accuracy                           0.48        21\n",
            "   macro avg       0.46      0.47      0.46        21\n",
            "weighted avg       0.47      0.48      0.46        21\n",
            "\n",
            "Confusion Matrix:\n",
            " [[3 7]\n",
            " [4 7]]\n",
            "F1 Score: 0.56\n",
            "Model trained. F1 Score: 0.56\n"
          ]
        }
      ]
    },
    {
      "cell_type": "code",
      "source": [
        "# Run the workflow\n",
        "main('/content/drive/MyDrive/GOOGLE_stock_data.csv')"
      ],
      "metadata": {
        "colab": {
          "base_uri": "https://localhost:8080/"
        },
        "id": "sBTvGCQi3NOH",
        "outputId": "57be2e1b-de44-4cce-ade0-87bd7be6014b"
      },
      "execution_count": 16,
      "outputs": [
        {
          "output_type": "stream",
          "name": "stdout",
          "text": [
            "Classification Report:\n",
            "               precision    recall  f1-score   support\n",
            "\n",
            "           0       0.50      0.30      0.38        10\n",
            "           1       0.53      0.73      0.62        11\n",
            "\n",
            "    accuracy                           0.52        21\n",
            "   macro avg       0.52      0.51      0.50        21\n",
            "weighted avg       0.52      0.52      0.50        21\n",
            "\n",
            "Confusion Matrix:\n",
            " [[3 7]\n",
            " [3 8]]\n",
            "F1 Score: 0.6153846153846154\n",
            "Model trained. F1 Score: 0.6153846153846154\n"
          ]
        }
      ]
    }
  ]
}